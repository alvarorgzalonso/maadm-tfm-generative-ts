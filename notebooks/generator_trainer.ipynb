{
 "cells": [
  {
   "cell_type": "markdown",
   "metadata": {},
   "source": [
    "# Project demo"
   ]
  },
  {
   "cell_type": "markdown",
   "metadata": {},
   "source": [
    "## Imports"
   ]
  },
  {
   "cell_type": "code",
   "execution_count": 1,
   "metadata": {},
   "outputs": [],
   "source": [
    "import numpy as np\n",
    "from matplotlib import pyplot as plt\n",
    "import json\n",
    "import torch\n",
    "from sktime.distances import distance_factory\n",
    "import pytorch_lightning as pl"
   ]
  },
  {
   "cell_type": "code",
   "execution_count": null,
   "metadata": {},
   "outputs": [],
   "source": [
    "import os\n",
    "import sys\n",
    "sys.path.append(os.path.join('..', 'src'))\n",
    "\n",
    "from data_loaders.melbourne_pedestrian import MelbounePedestrianDataModule\n",
    "from trainers.generation_trainer import TSGenerationModule\n",
    "import utils.utils_functions as ufn\n",
    "from utils.time_series_functions import *"
   ]
  },
  {
   "cell_type": "markdown",
   "metadata": {},
   "source": [
    "## Config"
   ]
  },
  {
   "cell_type": "code",
   "execution_count": null,
   "metadata": {},
   "outputs": [],
   "source": [
    "NOISE_DIM = 100\n",
    "config = {   \n",
    "    \"dataset_name\": \"melbourne_pedestrian\",\n",
    "    \"dataset_config\": {},\n",
    "    \"loader_config\": {\n",
    "                        \"batch_size\": 32,\n",
    "                        \"num_workers\": 20,\n",
    "                        \"pin_memory\": True\n",
    "                    }\n",
    "}\n",
    "trainer_args = {\n",
    "        \"max_steps\": 20000,\n",
    "        \"enable_checkpointing\": True,\n",
    "        \"default_root_dir\": f\"out\",\n",
    "        \"accelerator\": \"auto\",#\"cuda\",\n",
    "}\n",
    "\n",
    "output_data_dir = os.path.join(\"..\", \"data\", \"melbourne_pedestrian\")\n",
    "model_configs_path = os.path.join(\"..\", \"configs\", \"models\")\n",
    "gen_configs_path = os.path.join(model_configs_path, \"generator_InceptionTime.json\")\n",
    "disc_configs_path = os.path.join(model_configs_path, \"InceptionTime.json\")\n",
    "\n",
    "gen_ckpt_load_dir = os.path.join(\"..\", \"out\", \"generator0\", \"version_7\", \"ckpts\")\n",
    "gan_ckpt_load_dir = os.path.join(\"..\", \"out\", \"gan0\", \"version_2\", \"ckpts\")"
   ]
  },
  {
   "cell_type": "markdown",
   "metadata": {},
   "source": [
    "## Creating resources"
   ]
  },
  {
   "cell_type": "code",
   "execution_count": null,
   "metadata": {},
   "outputs": [],
   "source": [
    "if not os.path.exists(output_data_dir):\n",
    "    os.makedirs(output_data_dir)\n",
    "\n",
    "data_module = MelbounePedestrianDataModule(config[\"dataset_config\"], loader_config=config[\"loader_config\"])\n",
    "dataset = data_module.train_dataset\n",
    "labels = dataset.unique_labels\n",
    "data_loader = data_module.train_dataloader()\n",
    "it = iter(data_loader)"
   ]
  },
  {
   "cell_type": "code",
   "execution_count": null,
   "metadata": {},
   "outputs": [],
   "source": [
    "gen_config = ufn.parse_config(gen_configs_path)\n",
    "disc_config = ufn.parse_config(disc_configs_path)\n",
    "\n",
    "generator = ufn.load_generator(gen_config, data_module)\n",
    "discriminator = ufn.load_discriminator(disc_config, data_module)"
   ]
  },
  {
   "cell_type": "code",
   "execution_count": null,
   "metadata": {},
   "outputs": [],
   "source": [
    "generation_module = TSGenerationModule(\n",
    "    model=generator,\n",
    "    optimizer_config=gen_config[\"optimizer_params\"],\n",
    "    num_classes=data_module.num_classes,\n",
    "    noise_dim=gen_config[\"noise_dim\"],\n",
    "    l2_lambda=0.5,\n",
    "    l1_lambda=0.5,\n",
    ")\n",
    "\n",
    "trainer_args = trainer_args\n",
    "trainer = pl.Trainer(**trainer_args)"
   ]
  },
  {
   "cell_type": "code",
   "execution_count": null,
   "metadata": {},
   "outputs": [],
   "source": [
    "tuner = pl.tuner.Tuner(trainer)\n",
    "results = tuner.lr_find(\n",
    "    generation_module, \n",
    "    # optimizer = optimizer,\n",
    "    attr_name=\"lr\",\n",
    "    train_dataloaders=data_module, \n",
    "    min_lr=10e-8,\n",
    "    max_lr=10.0,\n",
    ")\n",
    "# Plot with\n",
    "fig = results.plot(suggest=True)\n",
    "fig.show()"
   ]
  }
 ],
 "metadata": {
  "kernelspec": {
   "display_name": "venv312",
   "language": "python",
   "name": "python3"
  },
  "language_info": {
   "codemirror_mode": {
    "name": "ipython",
    "version": 3
   },
   "file_extension": ".py",
   "mimetype": "text/x-python",
   "name": "python",
   "nbconvert_exporter": "python",
   "pygments_lexer": "ipython3",
   "version": "3.12.2"
  }
 },
 "nbformat": 4,
 "nbformat_minor": 2
}
